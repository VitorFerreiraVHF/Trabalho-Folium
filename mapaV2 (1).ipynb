import folium
import pandas as pd

# Carregar dados GeoJSON (exemplo com estados do Brasil)
url_geojson = "https://raw.githubusercontent.com/codeforamerica/click_that_hood/master/public/data/brazil-states.geojson"

# Criar dataframe com dados fictícios de população e PIB per capita por estado
data = {
    "id": ["AC", "AL", "AM", "AP", "BA", "CE", "DF", "ES", "GO", "MA", "MT", "MS",
           "MG", "PA", "PB", "PE", "PI", "PR", "RJ", "RN", "RO", "RR", "RS", "SC", "SE", "SP", "TO"],
    "populacao": [881935, 3337357, 4144597, 845731, 14873064, 9132078, 3015268, 4018650,
                  7113540, 7075181, 3484466, 2778986, 21168791, 8602865, 4039277, 9557071,
                  3273227, 11433957, 17264943, 3506853, 1777225, 605761, 11377239, 7164788,
                  2298696, 45919049, 1572866],
    "pib_per_capita": [16000, 15200, 23000, 18000, 21000, 19000, 85000, 24000, 28000, 15000,
                       35000, 37000, 32000, 18000, 17000, 22000, 16000, 36000, 45000, 25000,
                       27000, 24000, 42000, 41000, 23000, 55000, 29000]
}
df = pd.DataFrame(data)

# Criar o mapa centrado no Brasil
m = folium.Map(location=[-15.788497, -47.879873], zoom_start=4)

# Visualização 1: Choropleth de população com escala roxa
choropleth1 = folium.Choropleth(
    geo_data=url_geojson,
    data=df,
    columns=["id", "populacao"],
    key_on="feature.properties.sigla",
    fill_color="Purples",  # Escala de cor roxa
    fill_opacity=0.7,
    line_opacity=0.2,
    legend_name="População por Estado",
).add_to(m)

# Visualização 2: Choropleth de PIB per capita com escala vermelha
choropleth2 = folium.Choropleth(
    geo_data=url_geojson,
    data=df,
    columns=["id", "pib_per_capita"],
    key_on="feature.properties.sigla",
    fill_color="Reds",  # Escala de cor vermelha
    fill_opacity=0.7,
    line_opacity=0.2,
    legend_name="PIB per Capita por Estado",
).add_to(m)

# Adicionar controle de camadas para alternar entre as visualizações
folium.LayerControl().add_to(m)

# Exibir o mapa
m.save("choropleth_map.html")
m
