{
  "nbformat": 4,
  "nbformat_minor": 0,
  "metadata": {
    "colab": {
      "provenance": []
    },
    "kernelspec": {
      "name": "python3",
      "display_name": "Python 3"
    },
    "language_info": {
      "name": "python"
    }
  },
  "cells": [
    {
      "cell_type": "code",
      "source": [
        "import folium\n",
        "import pandas as pd\n",
        "\n",
        "url_geojson = \"https://raw.githubusercontent.com/codeforamerica/click_that_hood/master/public/data/brazil-states.geojson\"\n",
        "\n",
        "data = {\n",
        "    \"id\": [\"AC\", \"AL\", \"AM\", \"AP\", \"BA\", \"CE\", \"DF\", \"ES\", \"GO\", \"MA\", \"MT\", \"MS\",\n",
        "           \"MG\", \"PA\", \"PB\", \"PE\", \"PI\", \"PR\", \"RJ\", \"RN\", \"RO\", \"RR\", \"RS\", \"SC\", \"SE\", \"SP\", \"TO\"],\n",
        "    \"populacao\": [881935, 3337357, 4144597, 845731, 14873064, 9132078, 3015268, 4018650,\n",
        "                  7113540, 7075181, 3484466, 2778986, 21168791, 8602865, 4039277, 9557071,\n",
        "                  3273227, 11433957, 17264943, 3506853, 1777225, 605761, 11377239, 7164788,\n",
        "                  2298696, 45919049, 1572866],\n",
        "    \"pib_per_capita\": [16000, 15200, 23000, 18000, 21000, 19000, 85000, 24000, 28000, 15000,\n",
        "                       35000, 37000, 32000, 18000, 17000, 22000, 16000, 36000, 45000, 25000,\n",
        "                       27000, 24000, 42000, 41000, 23000, 55000, 29000]\n",
        "}\n",
        "df = pd.DataFrame(data)\n",
        "\n",
        "m = folium.Map(location=[-15.788497, -47.879873], zoom_start=4)\n",
        "\n",
        "choropleth1 = folium.Choropleth(\n",
        "    geo_data=url_geojson,\n",
        "    data=df,\n",
        "    columns=[\"id\", \"populacao\"],\n",
        "    key_on=\"feature.properties.sigla\",\n",
        "    fill_color=\"YlGn\",\n",
        "    fill_opacity=0.7,\n",
        "    line_opacity=0.2,\n",
        "    legend_name=\"População por Estado\",\n",
        ").add_to(m)\n",
        "\n",
        "choropleth2 = folium.Choropleth(\n",
        "    geo_data=url_geojson,\n",
        "    data=df,\n",
        "    columns=[\"id\", \"pib_per_capita\"],\n",
        "    key_on=\"feature.properties.sigla\",\n",
        "    fill_color=\"PuBu\",\n",
        "    fill_opacity=0.7,\n",
        "    line_opacity=0.2,\n",
        "    legend_name=\"PIB per Capita por Estado\",\n",
        ").add_to(m)\n",
        "\n",
        "folium.LayerControl().add_to(m)\n",
        "\n",
        "m.save(\"choropleth_map.html\")\n",
        "m"
      ],
      "metadata": {
        "id": "zZVLY8YQL2Qr"
      },
      "execution_count": null,
      "outputs": []
    }
  ]
}